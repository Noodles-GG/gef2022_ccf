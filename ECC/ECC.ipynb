{
 "cells": [
  {
   "cell_type": "markdown",
   "metadata": {},
   "source": [
    "# Exercise 1: ECC Operations"
   ]
  },
  {
   "cell_type": "markdown",
   "metadata": {},
   "source": [
    "1. Elliptic curve parameters:"
   ]
  },
  {
   "cell_type": "markdown",
   "metadata": {},
   "source": [
    "a.) Generatate a 9-bit random prime p."
   ]
  },
  {
   "cell_type": "code",
   "execution_count": null,
   "metadata": {},
   "outputs": [],
   "source": []
  },
  {
   "cell_type": "code",
   "execution_count": null,
   "metadata": {},
   "outputs": [],
   "source": []
  },
  {
   "cell_type": "code",
   "execution_count": null,
   "metadata": {},
   "outputs": [],
   "source": []
  },
  {
   "cell_type": "markdown",
   "metadata": {},
   "source": [
    "b.) Generate suitable parameters a and b for an elliptic curve.\n",
    "\n",
    "[Hints: $0 < a,b < p$, $(4a^3 + 27b^2)$ mod $p  \\neq 0$]\n",
    "\n",
    "Steps:\n",
    "1. Generate a random prime $p$ as in a.)\n",
    "2. Generate random numbers $0 < a,b < p$ such that $(4a^3 + 27b^2)$ mod $p \\neq 0$"
   ]
  },
  {
   "cell_type": "code",
   "execution_count": null,
   "metadata": {},
   "outputs": [],
   "source": []
  },
  {
   "cell_type": "code",
   "execution_count": null,
   "metadata": {},
   "outputs": [],
   "source": []
  },
  {
   "cell_type": "markdown",
   "metadata": {},
   "source": [
    "c.) Define the elliptic curve with the generated parameters in 1(a) and 1(b)."
   ]
  },
  {
   "cell_type": "code",
   "execution_count": null,
   "metadata": {},
   "outputs": [],
   "source": []
  },
  {
   "cell_type": "code",
   "execution_count": null,
   "metadata": {},
   "outputs": [],
   "source": []
  },
  {
   "cell_type": "markdown",
   "metadata": {},
   "source": [
    "2. Elliptic curve points and plots (Use the elliptic curve $E: y^2 = x^3 - 6x +5$):"
   ]
  },
  {
   "cell_type": "markdown",
   "metadata": {},
   "source": [
    "a.) Generate all the points on the given elliptic curve E with the prime p=5\n"
   ]
  },
  {
   "cell_type": "code",
   "execution_count": null,
   "metadata": {},
   "outputs": [],
   "source": []
  },
  {
   "cell_type": "code",
   "execution_count": null,
   "metadata": {},
   "outputs": [],
   "source": []
  },
  {
   "cell_type": "code",
   "execution_count": null,
   "metadata": {},
   "outputs": [],
   "source": []
  },
  {
   "cell_type": "code",
   "execution_count": null,
   "metadata": {},
   "outputs": [],
   "source": []
  },
  {
   "cell_type": "code",
   "execution_count": null,
   "metadata": {},
   "outputs": [],
   "source": []
  },
  {
   "cell_type": "markdown",
   "metadata": {},
   "source": [
    "b.) Plot the elliptic curve E provided above."
   ]
  },
  {
   "cell_type": "code",
   "execution_count": null,
   "metadata": {},
   "outputs": [],
   "source": []
  },
  {
   "cell_type": "markdown",
   "metadata": {},
   "source": [
    " 3. Point addition and doubling\n",
    " \n",
    " For the elliptic curve $E: y^2 = x^3 - 6x + 5, p= 13$, $P = (2,1)$ and $Q = (5, -10)$, find:\n",
    "\n",
    " \n",
    "(i) P+Q"
   ]
  },
  {
   "cell_type": "code",
   "execution_count": null,
   "metadata": {},
   "outputs": [],
   "source": []
  },
  {
   "cell_type": "code",
   "execution_count": null,
   "metadata": {},
   "outputs": [],
   "source": []
  },
  {
   "cell_type": "markdown",
   "metadata": {},
   "source": [
    "(ii) 2P"
   ]
  },
  {
   "cell_type": "code",
   "execution_count": null,
   "metadata": {},
   "outputs": [],
   "source": []
  },
  {
   "cell_type": "markdown",
   "metadata": {},
   "source": [
    "(iii) 5Q"
   ]
  },
  {
   "cell_type": "code",
   "execution_count": null,
   "metadata": {},
   "outputs": [],
   "source": []
  },
  {
   "cell_type": "code",
   "execution_count": null,
   "metadata": {},
   "outputs": [],
   "source": []
  },
  {
   "cell_type": "markdown",
   "metadata": {},
   "source": [
    "# Exercise 2: ECC encryption and decryption"
   ]
  },
  {
   "cell_type": "markdown",
   "metadata": {},
   "source": [
    "Carryout the following tasks on Sage. Use the elliptic curve $E$: $y^2 = x^3 - 6x + 5$ for Q1"
   ]
  },
  {
   "cell_type": "markdown",
   "metadata": {},
   "source": [
    "1.In an elliptic Diffie-Hellman key exchange with the $E$ given above, $p=5$ and $G=\n",
    "(2,1)$, Alice sends $(0,0)$ to Bob while the Bob sends $(2,4)$.\n",
    "\n",
    "What is the shared key? \n",
    "\n",
    "If the private keys for Alice and Bob are 2 and 3 respectively.\n"
   ]
  },
  {
   "cell_type": "code",
   "execution_count": null,
   "metadata": {},
   "outputs": [],
   "source": []
  },
  {
   "cell_type": "code",
   "execution_count": null,
   "metadata": {},
   "outputs": [],
   "source": []
  },
  {
   "cell_type": "code",
   "execution_count": null,
   "metadata": {},
   "outputs": [],
   "source": []
  },
  {
   "cell_type": "markdown",
   "metadata": {},
   "source": [
    "$skey = n_a*n_b*G$\n"
   ]
  },
  {
   "cell_type": "code",
   "execution_count": null,
   "metadata": {},
   "outputs": [],
   "source": []
  },
  {
   "cell_type": "code",
   "execution_count": null,
   "metadata": {},
   "outputs": [],
   "source": []
  },
  {
   "cell_type": "code",
   "execution_count": null,
   "metadata": {},
   "outputs": [],
   "source": []
  },
  {
   "cell_type": "markdown",
   "metadata": {},
   "source": [
    "# Example on ECC Public-key encryption"
   ]
  },
  {
   "cell_type": "code",
   "execution_count": null,
   "metadata": {},
   "outputs": [],
   "source": [
    "#Example on ECC Public-key encryption\n",
    "## encoding function for converting string to point on the elliptic curve E\n",
    "def koblitz_encode(E, string):\n",
    "    A = E.a4()\n",
    "    B = E.a6()\n",
    "    p = E.base_field().cardinality()\n",
    "    b = 2^16\n",
    "    m = string\n",
    "    n = len(m)\n",
    "    m = sum(ord(m[k])*b^k for k in range(n))\n",
    "    d = min(floor(p/m),100)\n",
    "    for j in range (d):\n",
    "        x = (d*m + j) % p\n",
    "        s = (x^3 + A*x + B) % p\n",
    "        if s == power_mod(s,int((p+1)/2),p):\n",
    "            y = power_mod(s, int((p+1)/4), p)\n",
    "            P=E([x,y])\n",
    "            return (P)\n",
    "## decoding function for converting point to a string\n",
    "def koblitz_decode(P):\n",
    "    b=2^16\n",
    "    d=100\n",
    "    plaintext=[]\n",
    "    xj= P[0]/P[2]\n",
    "    m=floor((xj)/d)\n",
    "    while m != 0:\n",
    "        plaintext.append(chr(m%b)) #converts m to a list of characters\n",
    "        m//=b\n",
    "    return ''.join(plaintext)\n",
    "\n"
   ]
  },
  {
   "cell_type": "code",
   "execution_count": null,
   "metadata": {},
   "outputs": [],
   "source": [
    "## NIST's secp521 elliptic curve\n",
    "p=2^521 - 1\n",
    "E = EllipticCurve([-3,int('929A21A0',16)]).base_extend(GF(p))"
   ]
  },
  {
   "cell_type": "code",
   "execution_count": null,
   "metadata": {},
   "outputs": [],
   "source": [
    "## Encryption\n",
    "M = 'CRYPTO'\n",
    "G = E.random_point()\n",
    "M_point = koblitz_encode(E, M) #message encoded as a point\n"
   ]
  },
  {
   "cell_type": "code",
   "execution_count": null,
   "metadata": {},
   "outputs": [],
   "source": [
    "### Alice's Private key and Public key\n",
    "PrA = randrange(p);\n",
    "PubA = PrA*G ;\n"
   ]
  },
  {
   "cell_type": "code",
   "execution_count": null,
   "metadata": {},
   "outputs": [],
   "source": [
    "### Bob's Private key and Public key\n",
    "PrB = randrange(p);\n",
    "PubB = PrB*G\n",
    "C = M_point + PrA*PubB #PrA*PrB*G\n",
    "ciphertext = (PubA, C)\n"
   ]
  },
  {
   "cell_type": "code",
   "execution_count": null,
   "metadata": {},
   "outputs": [],
   "source": [
    "## Decryption\n",
    "plaintext = ciphertext[1] - PrB * ciphertext[0] #PrB*PrA*G\n",
    "plaintext\n",
    "koblitz_decode(plaintext) #message point decoded back to message string"
   ]
  },
  {
   "cell_type": "markdown",
   "metadata": {},
   "source": [
    "2a.) Encrypt the message M=\"ILOVECITYU\" using ECC with the NIST's secp521 elliptic curve\n",
    "\n"
   ]
  },
  {
   "cell_type": "code",
   "execution_count": null,
   "metadata": {},
   "outputs": [],
   "source": []
  },
  {
   "cell_type": "code",
   "execution_count": null,
   "metadata": {},
   "outputs": [],
   "source": []
  },
  {
   "cell_type": "code",
   "execution_count": null,
   "metadata": {},
   "outputs": [],
   "source": []
  },
  {
   "cell_type": "code",
   "execution_count": null,
   "metadata": {},
   "outputs": [],
   "source": []
  },
  {
   "cell_type": "markdown",
   "metadata": {},
   "source": [
    "b.) Decrypt back the plaintext in 2a.)"
   ]
  },
  {
   "cell_type": "code",
   "execution_count": null,
   "metadata": {},
   "outputs": [],
   "source": []
  },
  {
   "cell_type": "code",
   "execution_count": null,
   "metadata": {},
   "outputs": [],
   "source": []
  },
  {
   "cell_type": "code",
   "execution_count": null,
   "metadata": {},
   "outputs": [],
   "source": []
  }
 ],
 "metadata": {
  "kernelspec": {
   "display_name": "SageMath 9.3",
   "language": "sage",
   "name": "sagemath"
  },
  "language_info": {
   "codemirror_mode": {
    "name": "ipython",
    "version": 3
   },
   "file_extension": ".py",
   "mimetype": "text/x-python",
   "name": "python",
   "nbconvert_exporter": "python",
   "pygments_lexer": "ipython3",
   "version": "3.7.10"
  }
 },
 "nbformat": 4,
 "nbformat_minor": 4
}

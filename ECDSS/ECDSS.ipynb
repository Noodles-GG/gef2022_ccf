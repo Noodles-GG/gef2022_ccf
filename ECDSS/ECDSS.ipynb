{
 "cells": [
  {
   "cell_type": "code",
   "execution_count": 1,
   "metadata": {},
   "outputs": [],
   "source": [
    "from hashlib import sha256"
   ]
  },
  {
   "cell_type": "markdown",
   "metadata": {},
   "source": [
    "# secp256k1 Curve Parameters"
   ]
  },
  {
   "cell_type": "code",
   "execution_count": 2,
   "metadata": {},
   "outputs": [],
   "source": [
    "p = 0xfffffffffffffffffffffffffffffffffffffffffffffffffffffffefffffc2f\n",
    "K = GF(p)\n",
    "a = K(0x0000000000000000000000000000000000000000000000000000000000000000)\n",
    "b = K(0x0000000000000000000000000000000000000000000000000000000000000007)\n",
    "E = EllipticCurve(K, (a, b))\n",
    "#E.set_order(0xfffffffffffffffffffffffffffffffebaaedce6af48a03bbfd25e8cd0364141)\n",
    "\n",
    "q = E.order()\n",
    "FF = GF(q)\n",
    "\n",
    "G = E(0x79be667ef9dcbbac55a06295ce870b07029bfcdb2dce28d959f2815b16f81798, 0x483ada7726a3c4655da4fbfc0e1108a8fd17b448a68554199c47d08ffb10d4b8)\n"
   ]
  },
  {
   "cell_type": "markdown",
   "metadata": {},
   "source": [
    "# Key Generation"
   ]
  },
  {
   "cell_type": "code",
   "execution_count": 3,
   "metadata": {},
   "outputs": [
    {
     "name": "stdout",
     "output_type": "stream",
     "text": [
      "69524814577959940223882108690378558715880211977552175546624061556216876843472\n",
      "(112124731364098407423098134620024373709769809179352055126568080665651707746508 : 99158560717111385625579139930281750294647313166695115626769722293307952865439 : 1)\n"
     ]
    }
   ],
   "source": [
    "PrA = randrange(p)\n",
    "PubA = PrA*G\n",
    "print(PrA)\n",
    "print(PubA)"
   ]
  },
  {
   "cell_type": "markdown",
   "metadata": {},
   "source": [
    "# Signing"
   ]
  },
  {
   "cell_type": "code",
   "execution_count": 4,
   "metadata": {},
   "outputs": [],
   "source": [
    "m = b'message to be signed'\n"
   ]
  },
  {
   "cell_type": "code",
   "execution_count": 5,
   "metadata": {},
   "outputs": [],
   "source": [
    "r = random_prime(q-1)\n",
    "Puv = r*G\n",
    "S1 = FF(Puv[0])\n",
    "hM = int(sha256(m).hexdigest(),16)\n",
    "S2 = (hM + PrA*S1)*(FF(r)^(-1))"
   ]
  },
  {
   "cell_type": "code",
   "execution_count": 6,
   "metadata": {},
   "outputs": [
    {
     "data": {
      "text/plain": [
       "(b'message to be signed',\n",
       " 32105876697780072185383244495324270240293641038244179575833813565205280487525,\n",
       " 68478441530696492637380378665421074141800507094506744255636259199713416280236)"
      ]
     },
     "execution_count": 6,
     "metadata": {},
     "output_type": "execute_result"
    }
   ],
   "source": [
    "# Alice will send this to bob\n",
    "m, S1, S2"
   ]
  },
  {
   "cell_type": "markdown",
   "metadata": {},
   "source": [
    "# Verification"
   ]
  },
  {
   "cell_type": "code",
   "execution_count": 7,
   "metadata": {},
   "outputs": [
    {
     "data": {
      "text/plain": [
       "True"
      ]
     },
     "execution_count": 7,
     "metadata": {},
     "output_type": "execute_result"
    }
   ],
   "source": [
    "# Bob will try to reconstruct Puv from m, S1, S2 \n",
    "# and compare Puv[0] with S1 he received \n",
    "\n",
    "hM = int(sha256(m).hexdigest(),16)\n",
    "A = hM*FF(S2)^(-1)\n",
    "B = S1*FF(S2)^(-1)\n",
    "\n",
    "T = Integer(A)*G + Integer(B)*PubA\n",
    "FF(T.xy()[0]) == S1"
   ]
  },
  {
   "cell_type": "code",
   "execution_count": 8,
   "metadata": {},
   "outputs": [
    {
     "data": {
      "text/plain": [
       "(32105876697780072185383244495324270240293641038244179575833813565205280487525 : 57994012798484763027968659896012221763371381524743687252762472911666044332307 : 1)"
      ]
     },
     "execution_count": 8,
     "metadata": {},
     "output_type": "execute_result"
    }
   ],
   "source": [
    "Puv"
   ]
  },
  {
   "cell_type": "code",
   "execution_count": 9,
   "metadata": {},
   "outputs": [
    {
     "data": {
      "text/plain": [
       "(32105876697780072185383244495324270240293641038244179575833813565205280487525 : 57994012798484763027968659896012221763371381524743687252762472911666044332307 : 1)"
      ]
     },
     "execution_count": 9,
     "metadata": {},
     "output_type": "execute_result"
    }
   ],
   "source": [
    "T"
   ]
  }
 ],
 "metadata": {
  "kernelspec": {
   "display_name": "SageMath 9.3",
   "language": "sage",
   "name": "sagemath"
  },
  "language_info": {
   "codemirror_mode": {
    "name": "ipython",
    "version": 3
   },
   "file_extension": ".py",
   "mimetype": "text/x-python",
   "name": "python",
   "nbconvert_exporter": "python",
   "pygments_lexer": "ipython3",
   "version": "3.7.10"
  }
 },
 "nbformat": 4,
 "nbformat_minor": 4
}

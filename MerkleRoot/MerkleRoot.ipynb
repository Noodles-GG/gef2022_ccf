{
 "cells": [
  {
   "cell_type": "code",
   "execution_count": 1,
   "metadata": {},
   "outputs": [],
   "source": [
    "import urllib.request, json, hashlib, binascii"
   ]
  },
  {
   "cell_type": "code",
   "execution_count": 2,
   "metadata": {},
   "outputs": [],
   "source": [
    "url = \"https://blockchain.info/rawblock/000000000000000000155a0c59bfdb54834608e7bf55e29920fd24591f1e3a98\"\n",
    "\n",
    "try:\n",
    "    contents = urllib.request.urlopen(url).read()\n",
    "    contents = json.loads(contents)\n",
    "except:\n",
    "    print('Error')"
   ]
  },
  {
   "cell_type": "code",
   "execution_count": null,
   "metadata": {},
   "outputs": [],
   "source": [
    "contents"
   ]
  },
  {
   "cell_type": "markdown",
   "metadata": {},
   "source": [
    "Write the function buildMerkleRoot to calculate the Merkle root"
   ]
  },
  {
   "cell_type": "code",
   "execution_count": 4,
   "metadata": {},
   "outputs": [],
   "source": [
    "def doubleSHA256(tx1,tx2):\n",
    "    tx1 = binascii.unhexlify(tx1)[::-1]\n",
    "    tx2 = binascii.unhexlify(tx2)[::-1]\n",
    "    \n",
    "    data = tx1 + tx2\n",
    "    digest = hashlib.sha256(data).digest()\n",
    "    digest = hashlib.sha256(digest).digest()\n",
    "    \n",
    "    return binascii.hexlify(digest[::-1])\n",
    "\n",
    "def buildMerkleRoot(leaf_hash):\n",
    "    return "
   ]
  },
  {
   "cell_type": "code",
   "execution_count": 5,
   "metadata": {},
   "outputs": [
    {
     "data": {
      "text/plain": [
       "2414"
      ]
     },
     "execution_count": 5,
     "metadata": {},
     "output_type": "execute_result"
    }
   ],
   "source": [
    "leaf_hash = [leaf['hash'] for leaf in contents['tx']]\n",
    "\n",
    "len(leaf_hash)"
   ]
  },
  {
   "cell_type": "code",
   "execution_count": 6,
   "metadata": {},
   "outputs": [
    {
     "name": "stdout",
     "output_type": "stream",
     "text": [
      "d8d09c8726c3d7f99d53da1e1d2bac332bab712e27358d48586ede4e0eb22f71\n"
     ]
    }
   ],
   "source": [
    "calculatedMerkleRoot = buildMerkleRoot(leaf_hash)\n",
    "print(calculatedMerkleRoot)"
   ]
  },
  {
   "cell_type": "code",
   "execution_count": 7,
   "metadata": {},
   "outputs": [
    {
     "data": {
      "text/plain": [
       "'d8d09c8726c3d7f99d53da1e1d2bac332bab712e27358d48586ede4e0eb22f71'"
      ]
     },
     "execution_count": 7,
     "metadata": {},
     "output_type": "execute_result"
    }
   ],
   "source": [
    "contents['mrkl_root']"
   ]
  },
  {
   "cell_type": "code",
   "execution_count": 8,
   "metadata": {},
   "outputs": [
    {
     "data": {
      "text/plain": [
       "True"
      ]
     },
     "execution_count": 8,
     "metadata": {},
     "output_type": "execute_result"
    }
   ],
   "source": [
    "contents['mrkl_root'] == calculatedMerkleRoot "
   ]
  }
 ],
 "metadata": {
  "kernelspec": {
   "display_name": "SageMath 9.3",
   "language": "sage",
   "name": "sagemath"
  },
  "language_info": {
   "codemirror_mode": {
    "name": "ipython",
    "version": 3
   },
   "file_extension": ".py",
   "mimetype": "text/x-python",
   "name": "python",
   "nbconvert_exporter": "python",
   "pygments_lexer": "ipython3",
   "version": "3.7.10"
  }
 },
 "nbformat": 4,
 "nbformat_minor": 4
}

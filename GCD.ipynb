{
 "cells": [
  {
   "cell_type": "markdown",
   "metadata": {},
   "source": [
    "Write a function in your favourite programming language for the euclidean algorithm using (a) looping and (b) recursion.\n"
   ]
  },
  {
   "cell_type": "markdown",
   "metadata": {},
   "source": [
    "(a) Looping"
   ]
  },
  {
   "cell_type": "code",
   "execution_count": 2,
   "metadata": {},
   "outputs": [],
   "source": [
    "def myGCD_looping(a,b):\n",
    "    '''\n",
    "    Note:\n",
    "    Swapping is not necessary, since if a<b, mod(a,b) = a,\n",
    "    inside the while loop: a,b = b,r (which is mod(a,b), which is a), \n",
    "    i.e. swapping happens here\n",
    "    '''\n",
    "   # if a<b:\n",
    "   #     a,b = b,a\n",
    "    r = mod(a,b) \n",
    "    while r>0:\n",
    "        a,b = b,r \n",
    "        r = mod(a,b) \n",
    "    return b"
   ]
  },
  {
   "cell_type": "code",
   "execution_count": 3,
   "metadata": {},
   "outputs": [],
   "source": [
    "def myGCD_looping2(a,b):\n",
    "    while b:\n",
    "        a,b = b,mod(a,b)\n",
    "    return a"
   ]
  },
  {
   "cell_type": "markdown",
   "metadata": {},
   "source": [
    "(b) Recursion"
   ]
  },
  {
   "cell_type": "markdown",
   "metadata": {},
   "source": [
    "$$ GCD(n,n) = n, GCD(n,1) = 1, GCD(n,0) = n $$"
   ]
  },
  {
   "cell_type": "markdown",
   "metadata": {},
   "source": [
    "$$ GCD(a,b) = GCD(b,mod(a,b)) $$"
   ]
  },
  {
   "cell_type": "markdown",
   "metadata": {},
   "source": [
    "Example:\n",
    "$$\n",
    "\\begin{align}\n",
    "GCD(36,16) &= GCD(16,mod(36,16)=4) \\\\\n",
    "           &= GCD(4,mod(16,4)=0) \\\\\n",
    "           &= 4\n",
    "\\end{align}\n",
    "$$"
   ]
  },
  {
   "cell_type": "code",
   "execution_count": 4,
   "metadata": {},
   "outputs": [],
   "source": [
    "def myGCD_recursion(a,b):\n",
    "    if b == 0:\n",
    "        return a\n",
    "    else:\n",
    "        return myGCD_recursion(b,mod(a,b))"
   ]
  },
  {
   "cell_type": "code",
   "execution_count": 5,
   "metadata": {},
   "outputs": [],
   "source": [
    "looping_correct = 0\n",
    "looping_correct2 = 0\n",
    "recursion_correct = 0\n",
    "num_round = 100\n",
    "\n",
    "for i in range(num_round):\n",
    "    a = randint(1,1000)\n",
    "    b = randint(1,1000)\n",
    "    #print(a, b)\n",
    "    # Compare the answer with sage function GCD(a,b)\n",
    "    if myGCD_looping(a,b) == GCD(a,b):\n",
    "        looping_correct += 1\n",
    "    if myGCD_looping2(a,b) == GCD(a,b):\n",
    "        looping_correct2 += 1\n",
    "    if myGCD_recursion(a,b) == GCD(a,b):    \n",
    "        recursion_correct += 1"
   ]
  },
  {
   "cell_type": "code",
   "execution_count": 6,
   "metadata": {},
   "outputs": [
    {
     "name": "stdout",
     "output_type": "stream",
     "text": [
      "Percentage of correct (looping 1): 100.00%\n"
     ]
    }
   ],
   "source": [
    "print(f'Percentage of correct (looping 1): {(100*float(looping_correct/num_round)):.2f}%')"
   ]
  },
  {
   "cell_type": "code",
   "execution_count": 7,
   "metadata": {},
   "outputs": [
    {
     "name": "stdout",
     "output_type": "stream",
     "text": [
      "Percentage of correct (looping 2): 100.00%\n"
     ]
    }
   ],
   "source": [
    "print(f'Percentage of correct (looping 2): {(100*float(looping_correct2/num_round)):.2f}%')"
   ]
  },
  {
   "cell_type": "code",
   "execution_count": 8,
   "metadata": {},
   "outputs": [
    {
     "name": "stdout",
     "output_type": "stream",
     "text": [
      "Percentage of correct (recursion): 100.00%\n"
     ]
    }
   ],
   "source": [
    "print(f'Percentage of correct (recursion): {(100*float(recursion_correct/num_round)):.2f}%')"
   ]
  }
 ],
 "metadata": {
  "kernelspec": {
   "display_name": "SageMath 9.3",
   "language": "sage",
   "name": "sagemath"
  },
  "language_info": {
   "codemirror_mode": {
    "name": "ipython",
    "version": 3
   },
   "file_extension": ".py",
   "mimetype": "text/x-python",
   "name": "python",
   "nbconvert_exporter": "python",
   "pygments_lexer": "ipython3",
   "version": "3.7.10"
  }
 },
 "nbformat": 4,
 "nbformat_minor": 4
}
